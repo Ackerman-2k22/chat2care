{
 "cells": [
  {
   "cell_type": "code",
   "execution_count": 1,
   "id": "b7da4b7f-babc-47ab-82bb-cfd31c2531e0",
   "metadata": {},
   "outputs": [],
   "source": [
    "from transformers import pipeline, AutoTokenizer, AutoModelForSequenceClassification, AutoConfig\n",
    "from scipy.special import softmax\n"
   ]
  },
  {
   "cell_type": "code",
   "execution_count": 2,
   "id": "2e109896-aba6-464b-805b-2f87dc4f61c4",
   "metadata": {},
   "outputs": [
    {
     "name": "stdout",
     "output_type": "stream",
     "text": [
      "<class 'transformers.models.xlm_roberta.tokenization_xlm_roberta_fast.XLMRobertaTokenizerFast'>\n"
     ]
    }
   ],
   "source": [
    "import sentencepiece\n",
    "from transformers import AutoTokenizer\n",
    "\n",
    "tokenizer = AutoTokenizer.from_pretrained(\n",
    "    r\"C:\\Users\\frann\\Downloads\\sentiment-analysis\"\n",
    ")\n",
    "print(type(tokenizer))\n"
   ]
  },
  {
   "cell_type": "code",
   "execution_count": 12,
   "id": "46f22dfc-a6b1-4fa1-9bee-ad1718fd8108",
   "metadata": {},
   "outputs": [
    {
     "name": "stdout",
     "output_type": "stream",
     "text": [
      "positive: 0.9313\n",
      "neutral: 0.0408\n",
      "negative: 0.0279\n"
     ]
    }
   ],
   "source": [
    "from transformers import AutoModelForSequenceClassification, AutoConfig\n",
    "from scipy.special import softmax\n",
    "\n",
    "local = r\"C:\\Users\\frann\\Downloads\\sentiment-analysis\"\n",
    "tokenizer = AutoTokenizer.from_pretrained(local, use_fast=False)\n",
    "config = AutoConfig.from_pretrained(local)\n",
    "model = AutoModelForSequenceClassification.from_pretrained(local)\n",
    "\n",
    "text = \"j'ai été très ému \"\n",
    "inputs = tokenizer(text, return_tensors=\"pt\")\n",
    "outputs = model(**inputs)\n",
    "scores = softmax(outputs.logits.detach().numpy()[0])\n",
    "\n",
    "for idx in scores.argsort()[::-1]:\n",
    "    print(f\"{config.id2label[idx]}: {scores[idx]:.4f}\")\n"
   ]
  },
  {
   "cell_type": "code",
   "execution_count": null,
   "id": "e4a1bb6a-4c8f-40df-97f9-69f2506e5b6f",
   "metadata": {},
   "outputs": [],
   "source": []
  }
 ],
 "metadata": {
  "kernelspec": {
   "display_name": "Python 3 (ipykernel)",
   "language": "python",
   "name": "python3"
  },
  "language_info": {
   "codemirror_mode": {
    "name": "ipython",
    "version": 3
   },
   "file_extension": ".py",
   "mimetype": "text/x-python",
   "name": "python",
   "nbconvert_exporter": "python",
   "pygments_lexer": "ipython3",
   "version": "3.11.7"
  }
 },
 "nbformat": 4,
 "nbformat_minor": 5
}
